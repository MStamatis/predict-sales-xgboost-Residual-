{
  "cells": [
    {
      "metadata": {
        "_uuid": "8f2839f25d086af736a60e9eeb907d3b93b6e0e5",
        "_cell_guid": "b1076dfc-b9ad-4769-8c92-a6c4dae69d19",
        "trusted": true,
        "collapsed": true
      },
      "cell_type": "markdown",
      "source": "This notebook takes inspiration from:\n\nhttps://www.kaggle.com/alexeyb/coursera-winning-kaggle-competitions, https://www.kaggle.com/anqitu/feature-engineer-and-model-ensemble-top-10\n\nBy adding some further techniques and improvements the LB score was improvement.\n\n# Part 1\n\nUnderstand our data better in \"Exploratory Data Analysis\" section, do necessary data wrangling\n"
    },
    {
      "metadata": {
        "_cell_guid": "79c7e3d0-c299-4dcb-8224-4455121ee9b0",
        "collapsed": true,
        "_uuid": "d629ff2d2480ee46fbb7e2d37f6b5fab8052498a",
        "trusted": false
      },
      "cell_type": "markdown",
      "source": "# Exploratory Data Analysis"
    },
    {
      "metadata": {
        "_uuid": "593876eb61eef4c5dc8f1ccc118496be7c427a0e"
      },
      "cell_type": "markdown",
      "source": "## Import necessary libraries"
    },
    {
      "metadata": {
        "trusted": true,
        "_uuid": "acea7ea2efa32fd41d9133669421522935e2b213"
      },
      "cell_type": "code",
      "source": "import numpy as np\nimport pandas as pd\nimport matplotlib.pyplot as plt\nimport seaborn as sns\nimport xgboost as xgb\nimport time\n\nfrom math import sqrt\nfrom numpy import loadtxt\nfrom itertools import product\nfrom tqdm import tqdm\nfrom sklearn import preprocessing\nfrom xgboost import plot_tree\nfrom matplotlib import pyplot\n\nfrom sklearn.model_selection import train_test_split\nfrom sklearn.metrics import accuracy_score\nfrom sklearn.metrics import mean_squared_error\nfrom sklearn.model_selection import KFold\nfrom sklearn.feature_extraction.text import TfidfVectorizer\n\nkernel_with_output = True",
      "execution_count": null,
      "outputs": []
    },
    {
      "metadata": {
        "_uuid": "4d87fd338b141c70ce7341e93c95ad4ded7ffdbd"
      },
      "cell_type": "markdown",
      "source": "## Data loading\nLoad all provided datasets provided"
    },
    {
      "metadata": {
        "trusted": true,
        "_uuid": "8903d7855924feb2d4c0b5373dc1a17651bc0d10"
      },
      "cell_type": "code",
      "source": "sales_train = pd.read_csv('../input/sales_train.csv.gz', compression='gzip', header=0, sep=',', quotechar='\"')\nitems = pd.read_csv('../input/items.csv')\nshops = pd.read_csv('../input/shops.csv')\nitem_categories = pd.read_csv('../input/item_categories.csv')\ntest = pd.read_csv('../input/test.csv.gz', compression='gzip', header=0, sep=',', quotechar='\"')\nsample_submission = pd.read_csv('../input/sample_submission.csv.gz', compression='gzip', header=0, sep=',', quotechar='\"')\n\n# Cleaned up a little of sales data after some basic EDA:\n#sales_train = sales_train[sales_train.item_price<110000]\n#sales_train = sales_train[sales_train.item_cnt_day<=1100]",
      "execution_count": null,
      "outputs": []
    },
    {
      "metadata": {
        "_uuid": "ea523489895e88e92ebbc54934f50f3ace0ae38a"
      },
      "cell_type": "markdown",
      "source": "## Insert missing rows and aggregations"
    },
    {
      "metadata": {
        "trusted": true,
        "_uuid": "fc37a4d4d3194efe0ab8e59a59e023bab7f05557"
      },
      "cell_type": "code",
      "source": "# For every month we create a grid from all shops/items combinations from that month\ngrid = []\nfor block_num in sales_train['date_block_num'].unique():\n    cur_shops = sales_train[sales_train['date_block_num']==block_num]['shop_id'].unique()\n    cur_items = sales_train[sales_train['date_block_num']==block_num]['item_id'].unique()\n    grid.append(np.array(list(product(*[cur_shops, cur_items, [block_num]])),dtype='int32'))\nindex_cols = ['shop_id', 'item_id', 'date_block_num']\ngrid = pd.DataFrame(np.vstack(grid), columns = index_cols,dtype=np.int32)\n\n# Aggregations\nsales_train['item_cnt_day'] = sales_train['item_cnt_day'].clip(0,20)\ngroups = sales_train.groupby(['shop_id', 'item_id', 'date_block_num'])\ntrainset = groups.agg({'item_cnt_day':'sum', 'item_price':'mean'}).reset_index()\ntrainset = trainset.rename(columns = {'item_cnt_day' : 'item_cnt_month'})\ntrainset['item_cnt_month'] = trainset['item_cnt_month'].clip(0,20)\n\ntrainset = pd.merge(grid,trainset,how='left',on=index_cols)\ntrainset.item_cnt_month = trainset.item_cnt_month.fillna(0)\n\n# Get category id\ntrainset = pd.merge(trainset, items[['item_id', 'item_category_id']], on = 'item_id')\ntrainset.to_csv('trainset_with_grid.csv')\n\ntrainset.head()",
      "execution_count": null,
      "outputs": []
    },
    {
      "metadata": {
        "_uuid": "dfd2569538bdcf1c17b7500a530e3910e3fa755c",
        "_kg_hide-output": true
      },
      "cell_type": "markdown",
      "source": "# Part2\n## Set up global vars "
    },
    {
      "metadata": {
        "trusted": true,
        "_uuid": "16a33a52e589a46038290776e285307352d6893b"
      },
      "cell_type": "code",
      "source": "# Set seeds and options\nnp.random.seed(10)\npd.set_option('display.max_rows', 231)\npd.set_option('display.max_columns', 100)\n\n# Feature engineering list\nnew_features = []\n\n# Periods range \nlookback_range = [1,2,11,12] #[1,2,3,4,5,6,7,8,9,10,11,12] #[1 ,2 ,3 ,4, 5, 12]\n\ntqdm.pandas()\n",
      "execution_count": null,
      "outputs": []
    },
    {
      "metadata": {
        "_uuid": "1e3ac3b16ed5614d255cc89376c9477a21d366a3"
      },
      "cell_type": "markdown",
      "source": "## Load data"
    },
    {
      "metadata": {
        "trusted": true,
        "_uuid": "d4b24b22de52b4b034dc58a7c682fe0199b38b73"
      },
      "cell_type": "code",
      "source": "current = time.time()\n\ntrainset = pd.read_csv('trainset_with_grid.csv')\nitems = pd.read_csv('../input/items.csv')\nshops = pd.read_csv('../input/shops.csv')\n\n\n# Only use more recent data\nstart_month = 0\nend_month = 33\ntrainset = trainset[['shop_id', 'item_id', 'item_category_id', 'date_block_num', 'item_price', 'item_cnt_month']]\ntrainset = trainset[(trainset.date_block_num >= start_month) & (trainset.date_block_num <= end_month)]\n\nprint('Loading test set...')\ntest_dataset = loadtxt('../input/test.csv', delimiter=\",\" ,skiprows=1, usecols = (1,2), dtype=int)\ntestset = pd.DataFrame(test_dataset, columns = ['shop_id', 'item_id'])\n\nprint('Merging with other datasets...')\n# Get item category id into test_df\ntestset = testset.merge(items[['item_id', 'item_category_id']], on = 'item_id', how = 'left')\ntestset['date_block_num'] = 34\n# Make testset contains same column as trainset so we can concatenate them row-wise\ntestset['item_cnt_month'] = -1\n\ntrain_test_set = pd.concat([trainset, testset], axis = 0) \n\nend = time.time()\ndiff = end - current\nprint('Took ' + str(int(diff)) + ' seconds to train and predict val set')",
      "execution_count": null,
      "outputs": []
    },
    {
      "metadata": {
        "_uuid": "2737ba27e7868bfe7cdb8685b4502fa6f5811dde"
      },
      "cell_type": "markdown",
      "source": "## Map Items Categorries\nMap Categories to more narrow onesory"
    },
    {
      "metadata": {
        "trusted": true,
        "_uuid": "ebd0763a93b9e9b39f193160a499bf30d65bf4b7"
      },
      "cell_type": "code",
      "source": "item_cat = pd.read_csv('../input/item_categories.csv')\n\n# Fix category\nl_cat = list(item_cat.item_category_name)\nfor ind in range(0,1):\n    l_cat[ind] = 'PC Headsets / Headphones'\nfor ind in range(1,8):\n    l_cat[ind] = 'Access'\nl_cat[8] = 'Tickets (figure)'\nl_cat[9] = 'Delivery of goods'\nfor ind in range(10,18):\n    l_cat[ind] = 'Consoles'\nfor ind in range(18,25):\n    l_cat[ind] = 'Consoles Games'\nl_cat[25] = 'Accessories for games'\nfor ind in range(26,28):\n    l_cat[ind] = 'phone games'\nfor ind in range(28,32):\n    l_cat[ind] = 'CD games'\nfor ind in range(32,37):\n    l_cat[ind] = 'Card'\nfor ind in range(37,43):\n    l_cat[ind] = 'Movie'\nfor ind in range(43,55):\n    l_cat[ind] = 'Books'\nfor ind in range(55,61):\n    l_cat[ind] = 'Music'\nfor ind in range(61,73):\n    l_cat[ind] = 'Gifts'\nfor ind in range(73,79):\n    l_cat[ind] = 'Soft'\nfor ind in range(79,81):\n    l_cat[ind] = 'Office'\nfor ind in range(81,83):\n    l_cat[ind] = 'Clean'\nl_cat[83] = 'Elements of a food'\n\nlb = preprocessing.LabelEncoder()\nitem_cat['item_category_id_fix'] = lb.fit_transform(l_cat)\nitem_cat['item_category_name_fix'] = l_cat\ntrain_test_set = train_test_set.merge(item_cat[['item_category_id', 'item_category_id_fix']], on = 'item_category_id', how = 'left')\n_ = train_test_set.drop(['item_category_id'],axis=1, inplace=True)\ntrain_test_set.rename(columns = {'item_category_id_fix':'item_category_id'}, inplace = True)\n\n_ = item_cat.drop(['item_category_id'],axis=1, inplace=True)\n_ = item_cat.drop(['item_category_name'],axis=1, inplace=True)\n\nitem_cat.rename(columns = {'item_category_id_fix':'item_category_id'}, inplace = True)\nitem_cat.rename(columns = {'item_category_name_fix':'item_category_name'}, inplace = True)\nitem_cat = item_cat.drop_duplicates()\nitem_cat.index = np.arange(0, len(item_cat))\nitem_cat.head()",
      "execution_count": null,
      "outputs": []
    },
    {
      "metadata": {
        "_uuid": "4142355194b030ae6e4d4a62e2ce1fea6935cf82"
      },
      "cell_type": "markdown",
      "source": "# Add previous shop/item sales as feature (Lag feature)"
    },
    {
      "metadata": {
        "trusted": true,
        "_uuid": "eb5eaa3887bac2c8e3934e40f62ede2fdbd1afb8"
      },
      "cell_type": "code",
      "source": "for diff in tqdm(lookback_range):\n    feature_name = 'prev_shopitem_sales_' + str(diff)\n    trainset2 = train_test_set.copy()\n    trainset2.loc[:, 'date_block_num'] += diff\n    trainset2.rename(columns={'item_cnt_month': feature_name}, inplace=True)\n    train_test_set = train_test_set.merge(trainset2[['shop_id', 'item_id', 'date_block_num', feature_name]], on = ['shop_id', 'item_id', 'date_block_num'], how = 'left')\n    train_test_set[feature_name] = train_test_set[feature_name].fillna(0)\n    new_features.append(feature_name)\ntrain_test_set.head(3)",
      "execution_count": null,
      "outputs": []
    },
    {
      "metadata": {
        "_uuid": "3e9a874dad4a304013a4aec6d32be8f9a9e09dc4"
      },
      "cell_type": "markdown",
      "source": "# Add previous shop/item price as feature (Lag feature)"
    },
    {
      "metadata": {
        "trusted": true,
        "_uuid": "c05be3cb450b3f0a4bdd2a4f1570e369c783daf6"
      },
      "cell_type": "code",
      "source": "groups = train_test_set.groupby(by = ['shop_id', 'item_id', 'date_block_num'])\nfor diff in tqdm(lookback_range):\n    feature_name = 'prev_shopitem_price_' + str(diff)\n    result = groups.agg({'item_price':'mean'})\n    result = result.reset_index()\n    result.loc[:, 'date_block_num'] += diff\n    result.rename(columns={'item_price': feature_name}, inplace=True)\n    train_test_set = train_test_set.merge(result, on = ['shop_id', 'item_id', 'date_block_num'], how = 'left')\n    train_test_set[feature_name] = train_test_set[feature_name]\n    new_features.append(feature_name)        \ntrain_test_set.head(3)\n",
      "execution_count": null,
      "outputs": []
    },
    {
      "metadata": {
        "_uuid": "d630fd1b36c50da83d61d3dbe1f441bd6f9943e6"
      },
      "cell_type": "markdown",
      "source": "# Add previous item price as feature (Lag feature)"
    },
    {
      "metadata": {
        "trusted": true,
        "_uuid": "d3a188b1a9228b1f07b689ade235e200fdbfa5e1"
      },
      "cell_type": "code",
      "source": "groups = train_test_set.groupby(by = ['item_id', 'date_block_num'])\nfor diff in tqdm(lookback_range):\n    feature_name = 'prev_item_price_' + str(diff)\n    result = groups.agg({'item_price':'mean'})\n    result = result.reset_index()\n    result.loc[:, 'date_block_num'] += diff\n    result.rename(columns={'item_price': feature_name}, inplace=True)\n    train_test_set = train_test_set.merge(result, on = ['item_id', 'date_block_num'], how = 'left')\n    train_test_set[feature_name] = train_test_set[feature_name]\n    new_features.append(feature_name)        \ntrain_test_set.head(3)",
      "execution_count": null,
      "outputs": []
    },
    {
      "metadata": {
        "_uuid": "87511f885a323923e4aa92668b27bf34ec4bd29b"
      },
      "cell_type": "markdown",
      "source": "# Modelling & Cross Validation (XGBoost using residual based boosting technique to minimize the MSE)\nIt was used residual based boosting technique to minimize the root square error. By using XGBoost, it was found  the distance between the predictions and the target values and they used as new target (Y) to a new Linear Regression model. Then the predictions of this model are summed up with the first predictions to create a new target value. This new target was used again to XGBoost model to find the final (improvement) predictions. The max_depth and learning rate (eta) were also optimized in order the model to be sufficient. This technique helps to minimize the LB score."
    },
    {
      "metadata": {
        "trusted": true,
        "_uuid": "75b8599039a9ef057f951f6d2ee1f4251d4355b3"
      },
      "cell_type": "code",
      "source": "current = time.time()\n\nbaseline_features = ['shop_id', 'item_id', 'item_category_id', 'date_block_num'] +  new_features + ['item_cnt_month']\n#train_test_set.fillna(0)\n# Clipping to range 0-20\ntrain_test_set['item_cnt_month'] = train_test_set.item_cnt_month.fillna(0).clip(0,20)\n\n# train: want rows with date_block_num from 0 to 31\ntrain_time_range_lo = (train_test_set['date_block_num'] >= 0)\ntrain_time_range_hi =  (train_test_set['date_block_num'] <= 32)\n\n# val: want rows with date_block_num from 22\nvalidation_time =  (train_test_set['date_block_num'] == 33)\n\n# test: want rows with date_block_num from 34\ntest_time =  (train_test_set['date_block_num'] == 34)\n\n\n# Retrieve rows for train set, val set, test set\ncv_trainset = train_test_set[train_time_range_lo & train_time_range_hi]\ncv_valset = train_test_set[validation_time]\ncv_trainset = cv_trainset[baseline_features]\ncv_valset = cv_valset[baseline_features]\ntestset = train_test_set[test_time]\ntestset = testset[baseline_features]\n\n# Prepare numpy arrays for training/val/test\ncv_trainset_vals = cv_trainset.values.astype(int)\ntrainx = cv_trainset_vals[:, 0:len(baseline_features) - 1]\ntrainy = cv_trainset_vals[:, len(baseline_features) - 1]\n\ncv_valset_vals = cv_valset.values.astype(int)\nvalx = cv_valset_vals[:, 0:len(baseline_features) - 1]\nvaly = cv_valset_vals[:, len(baseline_features) - 1]\n\ntestset_vals = testset.values.astype(int)\ntestx = testset_vals[:, 0:len(baseline_features) - 1]\n\nprint('Fitting...')\nmodel = xgb.XGBRegressor(max_depth = 8, min_child_weight = 0.5, subsample = 1, eta = 0.2, num_round = 1000, seed = 1, nthread = 16)\nmodel.fit(trainx, trainy, eval_metric='rmse')\npreds = model.predict(valx)\n\nnpreds = valy-preds #Distance between predictions and targets\nfrom sklearn.linear_model import LinearRegression\nregressor = LinearRegression()\nregressor.fit(valx, npreds)\nsecondpreds = regressor.predict(valx)\n\nnewy = secondpreds+preds\n#set now max_depth param from 8 to 10 for improvement\nmetamodel = xgb.XGBRegressor(max_depth = 10, min_child_weight = 0.5, subsample = 1, eta = 0.2, num_round = 1000, seed = 1, nthread = 16)\nft = metamodel.fit(valx, newy, eval_metric='rmse')\nmetapredicts = metamodel.predict(testx)\n\n\n# Clipping to range 0-20\nmetapredicts = np.clip(metapredicts, 0,20)\n#print('val set rmse: ', sqrt(mean_squared_error(valy, p)))\n\ndf = pd.DataFrame(metapredicts, columns = ['item_cnt_month'])\ndf['ID'] = df.index\ndf = df.set_index('ID')\ndf.to_csv('test_preds.csv')\nprint('test predictions written to file')\n\nend = time.time()\ndiff = end - current\nprint('Took ' + str(int(diff)) + ' seconds to train and predict val, test set')\nfig, ax = plt.subplots(figsize=(12,18))\nxgb.plot_importance(metamodel, max_num_features=50, height=0.8, ax=ax)\nplt.show()",
      "execution_count": null,
      "outputs": []
    },
    {
      "metadata": {
        "_uuid": "1eeb8b7bd57b93ffb4319f2949556393bf51c525"
      },
      "cell_type": "markdown",
      "source": "# Conclusion\nI got a rmse score of 0.992784 on public LB and 0.996122 on private.\n\n\n"
    }
  ],
  "metadata": {
    "kernelspec": {
      "display_name": "Python 3",
      "language": "python",
      "name": "python3"
    },
    "language_info": {
      "name": "python",
      "version": "3.6.6",
      "mimetype": "text/x-python",
      "codemirror_mode": {
        "name": "ipython",
        "version": 3
      },
      "pygments_lexer": "ipython3",
      "nbconvert_exporter": "python",
      "file_extension": ".py"
    }
  },
  "nbformat": 4,
  "nbformat_minor": 1
}